{
 "cells": [
  {
   "cell_type": "code",
   "execution_count": 4,
   "metadata": {},
   "outputs": [
    {
     "ename": "RuntimeError",
     "evalue": "CUDA error: out of memory\nCUDA kernel errors might be asynchronously reported at some other API call, so the stacktrace below might be incorrect.\nFor debugging consider passing CUDA_LAUNCH_BLOCKING=1.\nCompile with `TORCH_USE_CUDA_DSA` to enable device-side assertions.\n",
     "output_type": "error",
     "traceback": [
      "\u001b[0;31m---------------------------------------------------------------------------\u001b[0m",
      "\u001b[0;31mRuntimeError\u001b[0m                              Traceback (most recent call last)",
      "\u001b[1;32m/home/pessoa/Codes/SBI-posterior/using3datasets.ipynb Cell 1\u001b[0m line \u001b[0;36m5\n\u001b[1;32m      <a href='vscode-notebook-cell:/home/pessoa/Codes/SBI-posterior/using3datasets.ipynb#W0sZmlsZQ%3D%3D?line=1'>2</a>\u001b[0m \u001b[39mimport\u001b[39;00m \u001b[39mnumpy\u001b[39;00m \u001b[39mas\u001b[39;00m \u001b[39mnp\u001b[39;00m\n\u001b[1;32m      <a href='vscode-notebook-cell:/home/pessoa/Codes/SBI-posterior/using3datasets.ipynb#W0sZmlsZQ%3D%3D?line=2'>3</a>\u001b[0m \u001b[39mimport\u001b[39;00m \u001b[39mnormflows\u001b[39;00m \u001b[39mas\u001b[39;00m \u001b[39mnf\u001b[39;00m\n\u001b[0;32m----> <a href='vscode-notebook-cell:/home/pessoa/Codes/SBI-posterior/using3datasets.ipynb#W0sZmlsZQ%3D%3D?line=4'>5</a>\u001b[0m torch\u001b[39m.\u001b[39;49mmanual_seed(\u001b[39m42\u001b[39;49m)\n\u001b[1;32m      <a href='vscode-notebook-cell:/home/pessoa/Codes/SBI-posterior/using3datasets.ipynb#W0sZmlsZQ%3D%3D?line=5'>6</a>\u001b[0m torch\u001b[39m.\u001b[39mno_grad()\n\u001b[1;32m      <a href='vscode-notebook-cell:/home/pessoa/Codes/SBI-posterior/using3datasets.ipynb#W0sZmlsZQ%3D%3D?line=7'>8</a>\u001b[0m \u001b[39mimport\u001b[39;00m \u001b[39msys\u001b[39;00m\n",
      "File \u001b[0;32m~/anaconda3/lib/python3.9/site-packages/torch/random.py:40\u001b[0m, in \u001b[0;36mmanual_seed\u001b[0;34m(seed)\u001b[0m\n\u001b[1;32m     37\u001b[0m \u001b[39mimport\u001b[39;00m \u001b[39mtorch\u001b[39;00m\u001b[39m.\u001b[39;00m\u001b[39mcuda\u001b[39;00m\n\u001b[1;32m     39\u001b[0m \u001b[39mif\u001b[39;00m \u001b[39mnot\u001b[39;00m torch\u001b[39m.\u001b[39mcuda\u001b[39m.\u001b[39m_is_in_bad_fork():\n\u001b[0;32m---> 40\u001b[0m     torch\u001b[39m.\u001b[39;49mcuda\u001b[39m.\u001b[39;49mmanual_seed_all(seed)\n\u001b[1;32m     42\u001b[0m \u001b[39mimport\u001b[39;00m \u001b[39mtorch\u001b[39;00m\u001b[39m.\u001b[39;00m\u001b[39mmps\u001b[39;00m\n\u001b[1;32m     43\u001b[0m \u001b[39mif\u001b[39;00m \u001b[39mnot\u001b[39;00m torch\u001b[39m.\u001b[39mmps\u001b[39m.\u001b[39m_is_in_bad_fork():\n",
      "File \u001b[0;32m~/anaconda3/lib/python3.9/site-packages/torch/cuda/random.py:113\u001b[0m, in \u001b[0;36mmanual_seed_all\u001b[0;34m(seed)\u001b[0m\n\u001b[1;32m    110\u001b[0m         default_generator \u001b[39m=\u001b[39m torch\u001b[39m.\u001b[39mcuda\u001b[39m.\u001b[39mdefault_generators[i]\n\u001b[1;32m    111\u001b[0m         default_generator\u001b[39m.\u001b[39mmanual_seed(seed)\n\u001b[0;32m--> 113\u001b[0m _lazy_call(cb, seed_all\u001b[39m=\u001b[39;49m\u001b[39mTrue\u001b[39;49;00m)\n",
      "File \u001b[0;32m~/anaconda3/lib/python3.9/site-packages/torch/cuda/__init__.py:183\u001b[0m, in \u001b[0;36m_lazy_call\u001b[0;34m(callable, **kwargs)\u001b[0m\n\u001b[1;32m    181\u001b[0m \u001b[39mdef\u001b[39;00m \u001b[39m_lazy_call\u001b[39m(callable, \u001b[39m*\u001b[39m\u001b[39m*\u001b[39mkwargs):\n\u001b[1;32m    182\u001b[0m     \u001b[39mif\u001b[39;00m is_initialized():\n\u001b[0;32m--> 183\u001b[0m         callable()\n\u001b[1;32m    184\u001b[0m     \u001b[39melse\u001b[39;00m:\n\u001b[1;32m    185\u001b[0m         \u001b[39m# TODO(torch_deploy): this accesses linecache, which attempts to read the\u001b[39;00m\n\u001b[1;32m    186\u001b[0m         \u001b[39m# file system to get traceback info. Patch linecache or do something\u001b[39;00m\n\u001b[1;32m    187\u001b[0m         \u001b[39m# else here if this ends up being important.\u001b[39;00m\n\u001b[1;32m    188\u001b[0m         \u001b[39mglobal\u001b[39;00m _lazy_seed_tracker\n",
      "File \u001b[0;32m~/anaconda3/lib/python3.9/site-packages/torch/cuda/random.py:111\u001b[0m, in \u001b[0;36mmanual_seed_all.<locals>.cb\u001b[0;34m()\u001b[0m\n\u001b[1;32m    109\u001b[0m \u001b[39mfor\u001b[39;00m i \u001b[39min\u001b[39;00m \u001b[39mrange\u001b[39m(device_count()):\n\u001b[1;32m    110\u001b[0m     default_generator \u001b[39m=\u001b[39m torch\u001b[39m.\u001b[39mcuda\u001b[39m.\u001b[39mdefault_generators[i]\n\u001b[0;32m--> 111\u001b[0m     default_generator\u001b[39m.\u001b[39;49mmanual_seed(seed)\n",
      "\u001b[0;31mRuntimeError\u001b[0m: CUDA error: out of memory\nCUDA kernel errors might be asynchronously reported at some other API call, so the stacktrace below might be incorrect.\nFor debugging consider passing CUDA_LAUNCH_BLOCKING=1.\nCompile with `TORCH_USE_CUDA_DSA` to enable device-side assertions.\n"
     ]
    }
   ],
   "source": [
    "import torch\n",
    "import numpy as np\n",
    "import normflows as nf\n",
    "\n",
    "torch.manual_seed(42)\n",
    "torch.no_grad()\n",
    "\n",
    "import sys\n",
    "import os\n",
    "c_directory = os.getcwd()\n",
    "sys.path.append(os.path.join(c_directory, 'BSCD'))\n",
    "sys.path.append(os.path.join(c_directory, 'FCYeast'))\n",
    "\n",
    "from matplotlib import pyplot as plt\n",
    "import FCYeast_simulator\n",
    "\n",
    "enable_cuda = True\n",
    "CUDA_LAUNCH_BLOCKING=1\n",
    "device = torch.device('cuda' if torch.cuda.is_available() else 'cpu')\n",
    "\n",
    "model_file = 'FCYeast/FCYeast_network.pt'"
   ]
  },
  {
   "cell_type": "code",
   "execution_count": null,
   "metadata": {},
   "outputs": [],
   "source": [
    "target = FCYeast_simulator.target()\n",
    "context_size = 6\n",
    "\n",
    "latent_size = 1\n",
    "hidden_units = 128\n",
    "hidden_layers = 5\n",
    "\n",
    "flows = [nf.flows.AutoregressiveRationalQuadraticSpline(latent_size, hidden_layers, 64,num_context_channels=context_size,tail_bound=30),\n",
    "         nf.flows.LULinearPermute(latent_size),\n",
    "         nf.flows.AutoregressiveRationalQuadraticSpline(latent_size, hidden_layers, 128,num_context_channels=context_size,tail_bound=30),\n",
    "         nf.flows.LULinearPermute(latent_size),\n",
    "         nf.flows.AutoregressiveRationalQuadraticSpline(latent_size, hidden_layers, 256,num_context_channels=context_size,tail_bound=30),\n",
    "         nf.flows.LULinearPermute(latent_size),      \n",
    "         nf.flows.AutoregressiveRationalQuadraticSpline(latent_size, hidden_layers, 512,num_context_channels=context_size,tail_bound=30),\n",
    "         nf.flows.LULinearPermute(latent_size)\n",
    "         ]\n",
    "\n",
    "# Set base distribution\n",
    "q0 = nf.distributions.DiagGaussian(1)\n",
    "model = nf.ConditionalNormalizingFlow(q0, flows, target)\n",
    "model = model.to(device)\n",
    "\n",
    "for param in model.parameters():\n",
    "    param.requires_grad = False"
   ]
  },
  {
   "cell_type": "code",
   "execution_count": null,
   "metadata": {},
   "outputs": [
    {
     "data": {
      "text/plain": [
       "<All keys matched successfully>"
      ]
     },
     "execution_count": 4,
     "metadata": {},
     "output_type": "execute_result"
    }
   ],
   "source": [
    "model.load_state_dict(torch.load(model_file))"
   ]
  },
  {
   "cell_type": "code",
   "execution_count": 7,
   "metadata": {},
   "outputs": [
    {
     "ename": "NameError",
     "evalue": "name 'device' is not defined",
     "output_type": "error",
     "traceback": [
      "\u001b[0;31m---------------------------------------------------------------------------\u001b[0m",
      "\u001b[0;31mNameError\u001b[0m                                 Traceback (most recent call last)",
      "\u001b[1;32m/home/pessoa/Codes/SBI-posterior/using3datasets.ipynb Cell 4\u001b[0m line \u001b[0;36m6\n\u001b[1;32m      <a href='vscode-notebook-cell:/home/pessoa/Codes/SBI-posterior/using3datasets.ipynb#W3sZmlsZQ%3D%3D?line=2'>3</a>\u001b[0m dils \u001b[39m=\u001b[39m [\u001b[39m.12\u001b[39m,\u001b[39m.23\u001b[39m,\u001b[39m.33\u001b[39m]\n\u001b[1;32m      <a href='vscode-notebook-cell:/home/pessoa/Codes/SBI-posterior/using3datasets.ipynb#W3sZmlsZQ%3D%3D?line=4'>5</a>\u001b[0m dfs \u001b[39m=\u001b[39m [pd\u001b[39m.\u001b[39mread_csv(\u001b[39m'\u001b[39m\u001b[39mclean_data/complete_d=\u001b[39m\u001b[39m{}\u001b[39;00m\u001b[39m.csv\u001b[39m\u001b[39m'\u001b[39m\u001b[39m.\u001b[39mformat(d)) \u001b[39mfor\u001b[39;00m d \u001b[39min\u001b[39;00m dils]\n\u001b[0;32m----> <a href='vscode-notebook-cell:/home/pessoa/Codes/SBI-posterior/using3datasets.ipynb#W3sZmlsZQ%3D%3D?line=5'>6</a>\u001b[0m x \u001b[39m=\u001b[39m [torch\u001b[39m.\u001b[39mtensor(df[\u001b[39m'\u001b[39m\u001b[39mFL1-A\u001b[39m\u001b[39m'\u001b[39m]\u001b[39m.\u001b[39mto_numpy()\u001b[39m.\u001b[39mastype(np\u001b[39m.\u001b[39mfloat32))\u001b[39m.\u001b[39mreshape(\u001b[39m-\u001b[39m\u001b[39m1\u001b[39m,\u001b[39m1\u001b[39m)\u001b[39m.\u001b[39mto(device) \u001b[39mfor\u001b[39;00m df \u001b[39min\u001b[39;00m dfs]\n\u001b[1;32m      <a href='vscode-notebook-cell:/home/pessoa/Codes/SBI-posterior/using3datasets.ipynb#W3sZmlsZQ%3D%3D?line=7'>8</a>\u001b[0m ind \u001b[39m=\u001b[39m torch\u001b[39m.\u001b[39marange(\u001b[39m0\u001b[39m,x[\u001b[39m0\u001b[39m]\u001b[39m.\u001b[39msize(\u001b[39m0\u001b[39m),\u001b[39m3\u001b[39m)\n\u001b[1;32m      <a href='vscode-notebook-cell:/home/pessoa/Codes/SBI-posterior/using3datasets.ipynb#W3sZmlsZQ%3D%3D?line=8'>9</a>\u001b[0m xs \u001b[39m=\u001b[39m [torch\u001b[39m.\u001b[39mlog(xi[ind]) \u001b[39mfor\u001b[39;00m xi \u001b[39min\u001b[39;00m x]\n",
      "\u001b[1;32m/home/pessoa/Codes/SBI-posterior/using3datasets.ipynb Cell 4\u001b[0m line \u001b[0;36m6\n\u001b[1;32m      <a href='vscode-notebook-cell:/home/pessoa/Codes/SBI-posterior/using3datasets.ipynb#W3sZmlsZQ%3D%3D?line=2'>3</a>\u001b[0m dils \u001b[39m=\u001b[39m [\u001b[39m.12\u001b[39m,\u001b[39m.23\u001b[39m,\u001b[39m.33\u001b[39m]\n\u001b[1;32m      <a href='vscode-notebook-cell:/home/pessoa/Codes/SBI-posterior/using3datasets.ipynb#W3sZmlsZQ%3D%3D?line=4'>5</a>\u001b[0m dfs \u001b[39m=\u001b[39m [pd\u001b[39m.\u001b[39mread_csv(\u001b[39m'\u001b[39m\u001b[39mclean_data/complete_d=\u001b[39m\u001b[39m{}\u001b[39;00m\u001b[39m.csv\u001b[39m\u001b[39m'\u001b[39m\u001b[39m.\u001b[39mformat(d)) \u001b[39mfor\u001b[39;00m d \u001b[39min\u001b[39;00m dils]\n\u001b[0;32m----> <a href='vscode-notebook-cell:/home/pessoa/Codes/SBI-posterior/using3datasets.ipynb#W3sZmlsZQ%3D%3D?line=5'>6</a>\u001b[0m x \u001b[39m=\u001b[39m [torch\u001b[39m.\u001b[39mtensor(df[\u001b[39m'\u001b[39m\u001b[39mFL1-A\u001b[39m\u001b[39m'\u001b[39m]\u001b[39m.\u001b[39mto_numpy()\u001b[39m.\u001b[39mastype(np\u001b[39m.\u001b[39mfloat32))\u001b[39m.\u001b[39mreshape(\u001b[39m-\u001b[39m\u001b[39m1\u001b[39m,\u001b[39m1\u001b[39m)\u001b[39m.\u001b[39mto(device) \u001b[39mfor\u001b[39;00m df \u001b[39min\u001b[39;00m dfs]\n\u001b[1;32m      <a href='vscode-notebook-cell:/home/pessoa/Codes/SBI-posterior/using3datasets.ipynb#W3sZmlsZQ%3D%3D?line=7'>8</a>\u001b[0m ind \u001b[39m=\u001b[39m torch\u001b[39m.\u001b[39marange(\u001b[39m0\u001b[39m,x[\u001b[39m0\u001b[39m]\u001b[39m.\u001b[39msize(\u001b[39m0\u001b[39m),\u001b[39m3\u001b[39m)\n\u001b[1;32m      <a href='vscode-notebook-cell:/home/pessoa/Codes/SBI-posterior/using3datasets.ipynb#W3sZmlsZQ%3D%3D?line=8'>9</a>\u001b[0m xs \u001b[39m=\u001b[39m [torch\u001b[39m.\u001b[39mlog(xi[ind]) \u001b[39mfor\u001b[39;00m xi \u001b[39min\u001b[39;00m x]\n",
      "\u001b[0;31mNameError\u001b[0m: name 'device' is not defined"
     ]
    }
   ],
   "source": [
    "import pandas as pd\n",
    "\n",
    "dils = [.12,.23,.33]\n",
    "\n",
    "dfs = [pd.read_csv('clean_data/complete_d={}.csv'.format(d)) for d in dils]\n",
    "x = [torch.tensor(df['FL1-A'].to_numpy().astype(np.float32)).reshape(-1,1).to(device) for df in dfs]\n",
    "\n",
    "ind = torch.arange(0,x[0].size(0),3)\n",
    "xs = [torch.log(xi[ind]) for xi in x]"
   ]
  },
  {
   "cell_type": "code",
   "execution_count": 8,
   "metadata": {},
   "outputs": [
    {
     "ename": "NameError",
     "evalue": "name 'x' is not defined",
     "output_type": "error",
     "traceback": [
      "\u001b[0;31m---------------------------------------------------------------------------\u001b[0m",
      "\u001b[0;31mNameError\u001b[0m                                 Traceback (most recent call last)",
      "\u001b[1;32m/home/pessoa/Codes/SBI-posterior/using3datasets.ipynb Cell 5\u001b[0m line \u001b[0;36m1\n\u001b[0;32m----> <a href='vscode-notebook-cell:/home/pessoa/Codes/SBI-posterior/using3datasets.ipynb#W4sZmlsZQ%3D%3D?line=0'>1</a>\u001b[0m vectorize_params \u001b[39m=\u001b[39m torch\u001b[39m.\u001b[39mones(x\u001b[39m.\u001b[39msize(\u001b[39m0\u001b[39m),\u001b[39m5\u001b[39m)\u001b[39m.\u001b[39mto(device)\n\u001b[1;32m      <a href='vscode-notebook-cell:/home/pessoa/Codes/SBI-posterior/using3datasets.ipynb#W4sZmlsZQ%3D%3D?line=2'>3</a>\u001b[0m \u001b[39mdef\u001b[39;00m \u001b[39mlog_likelihood\u001b[39m(data,params,model):\n\u001b[1;32m      <a href='vscode-notebook-cell:/home/pessoa/Codes/SBI-posterior/using3datasets.ipynb#W4sZmlsZQ%3D%3D?line=3'>4</a>\u001b[0m     \u001b[39mglobal\u001b[39;00m vectorize_params\n",
      "\u001b[0;31mNameError\u001b[0m: name 'x' is not defined"
     ]
    }
   ],
   "source": [
    "vectorize_params = torch.ones(x.size(0),5).to(device)\n",
    "\n",
    "def log_likelihood(data,params,model):\n",
    "    global vectorize_params\n",
    "    if data.size !=  vectorize_params.size(0):\n",
    "        vectorize_params = torch.ones((data.size(0),6),device=device)\n",
    "\n",
    "    return model.log_prob(data,params*vectorize_params)\n",
    "\n",
    "def log_post(data,params,model,lprior):\n",
    "    return log_likelihood(data,params,model).sum() + lprior(params)"
   ]
  },
  {
   "cell_type": "code",
   "execution_count": 9,
   "metadata": {},
   "outputs": [],
   "source": [
    "def separate(x):\n",
    "    return torch.tensor(((x[0],x[1],x[2],x[3],x[4],x[11]),\n",
    "                         (x[0],x[1],x[5],x[6],x[7],x[11]),\n",
    "                         (x[0],x[1],x[8],x[9],x[10],x[11])))\n",
    "\n",
    "to_hours = torch.tensor(((0,0,-1,-1,1,0),\n",
    "                         (0,0,-1,-1,1,0),\n",
    "                         (0,0,-1,-1,1,0)))*torch.log(torch.tensor(dils)).reshape(-1,1)  \n",
    "\n",
    "def transform_to_hour(x): #suppose that \\betas (0 and 1) are in hours, and the other in the arbirary units. Turn them all in hours\n",
    "    return separate(x) + to_hours\n",
    "\n",
    "\n",
    "to_arbitrary = torch.tensor(((1,1, 0, 0,0,0),\n",
    "                             (1,1, 0, 0,0,0),\n",
    "                             (1,1, 0, 0,0,0)))*torch.log(torch.tensor(dils)).reshape(-1,1)\n",
    "def transform_to_arbitrary(x):  #suppose that \\betas (0 and 1) are in hours, and the other in the arbirary units. Turn them all to arbitrary\n",
    "    return separate(x) + to_arbitrary\n",
    "    "
   ]
  },
  {
   "cell_type": "code",
   "execution_count": null,
   "metadata": {},
   "outputs": [
    {
     "name": "stdout",
     "output_type": "stream",
     "text": [
      "tensor([ 4.3506,  7.1825,  0.5280, -1.2753, -2.7155, -0.6066], device='cuda:0') tensor(-84466.8906, device='cuda:0')\n",
      "tensor([ 4.9074,  8.1992, -1.1204,  1.8577, -2.4786,  1.3762], device='cuda:0') tensor(-73961.3438, device='cuda:0')\n",
      "tensor([ 3.1971,  6.4192,  0.8387,  1.4192, -2.1383,  0.8505], device='cuda:0') tensor(-73543.0781, device='cuda:0')\n",
      "tensor([ 4.5427,  8.7605, -0.5787, -0.7050, -2.4808, -1.0141], device='cuda:0') tensor(-67088.5000, device='cuda:0')\n",
      "tensor([ 4.3439,  8.7600, -0.6073,  0.3023, -2.6360, -0.6370], device='cuda:0') tensor(-61231.1641, device='cuda:0')\n",
      "tensor([ 4.4364,  7.4674, -1.0163, -0.2045, -2.1691,  0.3886], device='cuda:0') tensor(-59646.8555, device='cuda:0')\n",
      "tensor([ 4.2277,  8.6798, -0.0830,  1.5087, -1.9863, -0.3298], device='cuda:0') tensor(-58543.7266, device='cuda:0')\n"
     ]
    }
   ],
   "source": [
    "#make new prior\n",
    "#make 5k initials from prior"
   ]
  },
  {
   "cell_type": "code",
   "execution_count": null,
   "metadata": {},
   "outputs": [
    {
     "data": {
      "text/plain": [
       "tensor([[ 2.1203,  2.1203,  2.1203,  2.1203, -2.1203, -0.0000],\n",
       "        [ 1.4697,  1.4697,  1.4697,  1.4697, -1.4697, -0.0000],\n",
       "        [ 1.1087,  1.1087,  1.1087,  1.1087, -1.1087, -0.0000]])"
      ]
     },
     "execution_count": 19,
     "metadata": {},
     "output_type": "execute_result"
    }
   ],
   "source": [
    "#make mcmc adaptative"
   ]
  },
  {
   "cell_type": "code",
   "execution_count": null,
   "metadata": {},
   "outputs": [],
   "source": [
    "#make mcmc final"
   ]
  },
  {
   "cell_type": "code",
   "execution_count": null,
   "metadata": {},
   "outputs": [],
   "source": [
    "separate_dils = torch.tensor(((-1,-1,-1,-1,1,0),\n",
    "                              (-1,-1,-1,-1,1,0),\n",
    "                              (-1,-1,-1,-1,1,0)))*torch.log(torch.tensor(dils)).reshape(-1,1)"
   ]
  },
  {
   "cell_type": "code",
   "execution_count": null,
   "metadata": {},
   "outputs": [
    {
     "data": {
      "text/plain": [
       "tensor([[ 2.1203,  2.1203,  2.1203,  2.1203, -2.1203, -0.0000],\n",
       "        [ 1.4697,  1.4697,  1.4697,  1.4697, -1.4697, -0.0000],\n",
       "        [ 1.1087,  1.1087,  1.1087,  1.1087, -1.1087, -0.0000]])"
      ]
     },
     "execution_count": 7,
     "metadata": {},
     "output_type": "execute_result"
    }
   ],
   "source": [
    "separate_dils"
   ]
  },
  {
   "cell_type": "code",
   "execution_count": 10,
   "metadata": {},
   "outputs": [
    {
     "data": {
      "text/plain": [
       "tensor([[-0.0000, -0.0000,  2.1203,  2.1203, -2.1203, -0.0000],\n",
       "        [-0.0000, -0.0000,  1.4697,  1.4697, -1.4697, -0.0000],\n",
       "        [-0.0000, -0.0000,  1.1087,  1.1087, -1.1087, -0.0000]])"
      ]
     },
     "execution_count": 10,
     "metadata": {},
     "output_type": "execute_result"
    }
   ],
   "source": [
    "to_hours"
   ]
  },
  {
   "cell_type": "code",
   "execution_count": 11,
   "metadata": {},
   "outputs": [
    {
     "data": {
      "text/plain": [
       "tensor([[2.1203, 2.1203, -0.0000, -0.0000, -0.0000, -0.0000],\n",
       "        [1.4697, 1.4697, -0.0000, -0.0000, -0.0000, -0.0000],\n",
       "        [1.1087, 1.1087, -0.0000, -0.0000, -0.0000, -0.0000]])"
      ]
     },
     "execution_count": 11,
     "metadata": {},
     "output_type": "execute_result"
    }
   ],
   "source": [
    "to_arbitrary"
   ]
  },
  {
   "cell_type": "code",
   "execution_count": 5,
   "metadata": {},
   "outputs": [],
   "source": [
    "import torch"
   ]
  },
  {
   "cell_type": "code",
   "execution_count": null,
   "metadata": {},
   "outputs": [],
   "source": []
  }
 ],
 "metadata": {
  "kernelspec": {
   "display_name": "base",
   "language": "python",
   "name": "python3"
  },
  "language_info": {
   "codemirror_mode": {
    "name": "ipython",
    "version": 3
   },
   "file_extension": ".py",
   "mimetype": "text/x-python",
   "name": "python",
   "nbconvert_exporter": "python",
   "pygments_lexer": "ipython3",
   "version": "3.9.16"
  },
  "orig_nbformat": 4
 },
 "nbformat": 4,
 "nbformat_minor": 2
}
