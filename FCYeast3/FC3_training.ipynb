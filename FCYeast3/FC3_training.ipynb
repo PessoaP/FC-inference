{
 "cells": [
  {
   "cell_type": "code",
   "execution_count": 1,
   "metadata": {},
   "outputs": [
    {
     "ename": "ImportError",
     "evalue": "cannot import name 'FCBSCD_plot' from 'eZplot' (/home/pessoa/Codes/SBIFC-inference/eZplot.py)",
     "output_type": "error",
     "traceback": [
      "\u001b[0;31m---------------------------------------------------------------------------\u001b[0m",
      "\u001b[0;31mImportError\u001b[0m                               Traceback (most recent call last)",
      "\u001b[1;32m/home/pessoa/Codes/SBIFC-inference/FCYeast3/FC3_training.ipynb Cell 1\u001b[0m line \u001b[0;36m1\n\u001b[1;32m      <a href='vscode-notebook-cell:/home/pessoa/Codes/SBIFC-inference/FCYeast3/FC3_training.ipynb#W0sZmlsZQ%3D%3D?line=8'>9</a>\u001b[0m sys\u001b[39m.\u001b[39mpath\u001b[39m.\u001b[39mappend(os\u001b[39m.\u001b[39mpath\u001b[39m.\u001b[39mjoin(os\u001b[39m.\u001b[39mpath\u001b[39m.\u001b[39mdirname(c_directory), \u001b[39m'\u001b[39m\u001b[39mFCYeast\u001b[39m\u001b[39m'\u001b[39m))\n\u001b[1;32m     <a href='vscode-notebook-cell:/home/pessoa/Codes/SBIFC-inference/FCYeast3/FC3_training.ipynb#W0sZmlsZQ%3D%3D?line=10'>11</a>\u001b[0m \u001b[39mfrom\u001b[39;00m \u001b[39mmatplotlib\u001b[39;00m \u001b[39mimport\u001b[39;00m pyplot \u001b[39mas\u001b[39;00m plt\n\u001b[0;32m---> <a href='vscode-notebook-cell:/home/pessoa/Codes/SBIFC-inference/FCYeast3/FC3_training.ipynb#W0sZmlsZQ%3D%3D?line=11'>12</a>\u001b[0m \u001b[39mfrom\u001b[39;00m \u001b[39meZplot\u001b[39;00m \u001b[39mimport\u001b[39;00m FCBSCD_plot\n\u001b[1;32m     <a href='vscode-notebook-cell:/home/pessoa/Codes/SBIFC-inference/FCYeast3/FC3_training.ipynb#W0sZmlsZQ%3D%3D?line=12'>13</a>\u001b[0m \u001b[39mfrom\u001b[39;00m \u001b[39mtqdm\u001b[39;00m \u001b[39mimport\u001b[39;00m tqdm\n\u001b[1;32m     <a href='vscode-notebook-cell:/home/pessoa/Codes/SBIFC-inference/FCYeast3/FC3_training.ipynb#W0sZmlsZQ%3D%3D?line=14'>15</a>\u001b[0m \u001b[39mimport\u001b[39;00m \u001b[39mFCYeast_simulator\u001b[39;00m\n",
      "\u001b[0;31mImportError\u001b[0m: cannot import name 'FCBSCD_plot' from 'eZplot' (/home/pessoa/Codes/SBIFC-inference/eZplot.py)"
     ]
    }
   ],
   "source": [
    "import torch\n",
    "import numpy as np\n",
    "import normflows as nf\n",
    "\n",
    "import sys\n",
    "import os\n",
    "c_directory = os.getcwd()\n",
    "sys.path.append(os.path.dirname(c_directory))\n",
    "sys.path.append(os.path.join(os.path.dirname(c_directory), 'FCYeast'))\n",
    "\n",
    "from tqdm import tqdm\n",
    "import architecture\n",
    "import FCYeast_simulator\n",
    "import eZplot\n",
    "\n",
    "enable_cuda = True\n",
    "CUDA_LAUNCH_BLOCKING=1\n",
    "device = torch.device('cuda' if torch.cuda.is_available() else 'cpu')\n",
    "\n",
    "FCYeast_simulator.adjust_device(device)"
   ]
  },
  {
   "cell_type": "code",
   "execution_count": null,
   "metadata": {},
   "outputs": [],
   "source": [
    "dil='33'\n",
    "dil_factor = int(dil)/100\n",
    "folder = 'dilution'+dil\n",
    "model_file = folder+'/FCYeast_network.pt'\n",
    "figs_direc = folder+'/FCYeast_network_perform'"
   ]
  },
  {
   "cell_type": "code",
   "execution_count": null,
   "metadata": {},
   "outputs": [],
   "source": [
    "# Define target\n",
    "target = FCYeast_simulator.target()\n",
    "\n",
    "context_size = 6\n",
    "\n",
    "target.prior.loc[:2]-=torch.log(torch.tensor(dil_factor,device=device))\n",
    "target.params_dist.loc = target.prior.loc\n"
   ]
  },
  {
   "cell_type": "code",
   "execution_count": null,
   "metadata": {},
   "outputs": [],
   "source": [
    "model = architecture.make_model()"
   ]
  },
  {
   "cell_type": "code",
   "execution_count": null,
   "metadata": {},
   "outputs": [
    {
     "name": "stdout",
     "output_type": "stream",
     "text": [
      "loading pretrained network\n"
     ]
    }
   ],
   "source": [
    "try:\n",
    "    model.load_state_dict(torch.load(model_file))\n",
    "    print('loading pretrained network')\n",
    "except:\n",
    "    print('starting from scratch')"
   ]
  },
  {
   "cell_type": "code",
   "execution_count": null,
   "metadata": {},
   "outputs": [],
   "source": [
    "max_iter   = 4000\n",
    "show_iter  = 100\n",
    "n_batch    = 16\n",
    "\n",
    "\n",
    "x = target.sample(n=1024*1024)\n",
    "batch_size = x.size(0)//n_batch\n",
    "\n",
    "x,context = x[:,0].reshape(-1,1)*1.0,x[:,1:]\n",
    "\n",
    "batches = torch.arange(x.size(0)).reshape(n_batch,-1)"
   ]
  },
  {
   "cell_type": "code",
   "execution_count": null,
   "metadata": {},
   "outputs": [],
   "source": [
    "# Train model\n",
    "loss_hist = np.array([])\n",
    "optimizer = torch.optim.Adam(model.parameters(), lr=1e-4, weight_decay=1e-6)"
   ]
  },
  {
   "cell_type": "code",
   "execution_count": null,
   "metadata": {},
   "outputs": [
    {
     "name": "stderr",
     "output_type": "stream",
     "text": [
      "  0%|          | 0/4000 [00:00<?, ?it/s]"
     ]
    },
    {
     "name": "stderr",
     "output_type": "stream",
     "text": [
      " 17%|█▋        | 693/4000 [1:17:13<6:08:29,  6.69s/it] \n"
     ]
    },
    {
     "ename": "KeyboardInterrupt",
     "evalue": "",
     "output_type": "error",
     "traceback": [
      "\u001b[0;31m---------------------------------------------------------------------------\u001b[0m",
      "\u001b[0;31mKeyboardInterrupt\u001b[0m                         Traceback (most recent call last)",
      "\u001b[1;32m/home/pessoa/Codes/SBIFC-inference/FCYeast3/FCYeast_training.ipynb Cell 9\u001b[0m line \u001b[0;36m6\n\u001b[1;32m      <a href='vscode-notebook-cell:/home/pessoa/Codes/SBIFC-inference/FCYeast3/FCYeast_training.ipynb#X11sZmlsZQ%3D%3D?line=3'>4</a>\u001b[0m \u001b[39mfor\u001b[39;00m it2 \u001b[39min\u001b[39;00m (\u001b[39mrange\u001b[39m(n_batch)):  \n\u001b[1;32m      <a href='vscode-notebook-cell:/home/pessoa/Codes/SBIFC-inference/FCYeast3/FCYeast_training.ipynb#X11sZmlsZQ%3D%3D?line=4'>5</a>\u001b[0m     optimizer\u001b[39m.\u001b[39mzero_grad() \n\u001b[0;32m----> <a href='vscode-notebook-cell:/home/pessoa/Codes/SBIFC-inference/FCYeast3/FCYeast_training.ipynb#X11sZmlsZQ%3D%3D?line=5'>6</a>\u001b[0m     gc\u001b[39m.\u001b[39;49mcollect()\n\u001b[1;32m      <a href='vscode-notebook-cell:/home/pessoa/Codes/SBIFC-inference/FCYeast3/FCYeast_training.ipynb#X11sZmlsZQ%3D%3D?line=7'>8</a>\u001b[0m     \u001b[39m# Compute loss\u001b[39;00m\n\u001b[1;32m      <a href='vscode-notebook-cell:/home/pessoa/Codes/SBIFC-inference/FCYeast3/FCYeast_training.ipynb#X11sZmlsZQ%3D%3D?line=8'>9</a>\u001b[0m     batch \u001b[39m=\u001b[39m batches[it2]\n",
      "\u001b[0;31mKeyboardInterrupt\u001b[0m: "
     ]
    }
   ],
   "source": [
    "for it in tqdm(range(max_iter)):\n",
    "    loss_epoch = np.array([])\n",
    "\n",
    "    for it2 in (range(n_batch)):  \n",
    "        optimizer.zero_grad() \n",
    "        \n",
    "        # Compute loss\n",
    "        batch = batches[it2]\n",
    "        loss = -model.log_prob(x[batch], context[batch]).mean()\n",
    "        \n",
    "        # Do backprop and optimizer step\n",
    "        if ~(torch.isnan(loss) | torch.isinf(loss)):\n",
    "            loss.backward()\n",
    "            optimizer.step()\n",
    "        \n",
    "            loss_epoch = np.append(loss_epoch, 1.0*loss.to('cpu').item())\n",
    "        del loss #this is a test\n",
    "\n",
    "    # Log loss\n",
    "    loss_hist = np.append(loss_hist, np.mean(loss_epoch))\n",
    "\n",
    "    if (it+1)%show_iter==0:\n",
    "        index = (loss_hist.size+np.arange(-int(2.5*show_iter),0))\n",
    "        eZplot.presenting_results(model,target,loss_hist,index[index>=0],figs_direc = figs_direc)\n",
    "\n",
    "    if (it + 1) % (3*show_iter) == 0:\n",
    "        with torch.no_grad():\n",
    "            torch.save(model.state_dict(), model_file)\n",
    "\n",
    "    with torch.no_grad():\n",
    "        samples_new = target.sample(n=64*1024)\n",
    "\n",
    "        x[:samples_new.size(0)] = samples_new[:,0].reshape((-1,1))\n",
    "        context[:samples_new.size(0)] = samples_new[:,1:]\n",
    "\n",
    "        shuffle_index = torch.randperm(x.size(0))\n",
    "        x = (x[shuffle_index]).contiguous()\n",
    "        context = (context[shuffle_index]).contiguous()\n"
   ]
  },
  {
   "cell_type": "code",
   "execution_count": null,
   "metadata": {},
   "outputs": [],
   "source": [
    "torch.save(model.state_dict(), model_file)"
   ]
  },
  {
   "cell_type": "code",
   "execution_count": null,
   "metadata": {},
   "outputs": [],
   "source": []
  }
 ],
 "metadata": {
  "kernelspec": {
   "display_name": "base",
   "language": "python",
   "name": "python3"
  },
  "language_info": {
   "codemirror_mode": {
    "name": "ipython",
    "version": 3
   },
   "file_extension": ".py",
   "mimetype": "text/x-python",
   "name": "python",
   "nbconvert_exporter": "python",
   "pygments_lexer": "ipython3",
   "version": "3.9.16"
  },
  "orig_nbformat": 4
 },
 "nbformat": 4,
 "nbformat_minor": 2
}
