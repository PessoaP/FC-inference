{
 "cells": [
  {
   "cell_type": "code",
   "execution_count": 1,
   "metadata": {},
   "outputs": [],
   "source": [
    "import torch\n",
    "import numpy as np\n",
    "import normflows as nf\n",
    "\n",
    "import sys\n",
    "import os\n",
    "c_directory = os.getcwd()\n",
    "sys.path.append(os.path.dirname(c_directory))\n",
    "sys.path.append(os.path.join(os.path.dirname(c_directory), 'FCYeast'))\n",
    "\n",
    "from tqdm import tqdm\n",
    "import architecture\n",
    "import FCYeast_simulator\n",
    "import eZplot\n",
    "\n",
    "enable_cuda = True\n",
    "CUDA_LAUNCH_BLOCKING=1\n",
    "device = torch.device('cuda' if torch.cuda.is_available() else 'cpu')\n"
   ]
  },
  {
   "cell_type": "code",
   "execution_count": 2,
   "metadata": {},
   "outputs": [],
   "source": [
    "dil='12'\n",
    "dil_factor = int(dil)/100\n",
    "folder = 'dilution'+dil\n",
    "model_file = folder+'/FCYeast_network.pt'\n",
    "figs_direc = folder+'/FCYeast_network_perform'"
   ]
  },
  {
   "cell_type": "code",
   "execution_count": 3,
   "metadata": {},
   "outputs": [],
   "source": [
    "# Define target\n",
    "FCYeast_simulator.adjust_device(device)\n",
    "target = FCYeast_simulator.target()\n",
    "\n",
    "\n",
    "target.prior.loc[0]-=torch.log(torch.tensor(dil_factor,device=device))\n",
    "target.params_dist.loc = target.prior.loc\n"
   ]
  },
  {
   "cell_type": "code",
   "execution_count": 4,
   "metadata": {},
   "outputs": [],
   "source": [
    "model = architecture.make_model()"
   ]
  },
  {
   "cell_type": "code",
   "execution_count": 5,
   "metadata": {},
   "outputs": [
    {
     "name": "stdout",
     "output_type": "stream",
     "text": [
      "starting from scratch\n"
     ]
    }
   ],
   "source": [
    "try:\n",
    "    model.load_state_dict(torch.load(model_file))\n",
    "    print('loading pretrained network')\n",
    "except:\n",
    "    print('starting from scratch')"
   ]
  },
  {
   "cell_type": "code",
   "execution_count": 6,
   "metadata": {},
   "outputs": [],
   "source": [
    "max_iter   = 4000\n",
    "show_iter  = 100\n",
    "n_batch    = 16\n",
    "\n",
    "\n",
    "x = target.sample(n=1024*1024)\n",
    "batch_size = x.size(0)//n_batch\n",
    "\n",
    "x,context = x[:,0].reshape(-1,1)*1.0,x[:,1:]\n",
    "\n",
    "batches = torch.arange(x.size(0)).reshape(n_batch,-1)"
   ]
  },
  {
   "cell_type": "code",
   "execution_count": 7,
   "metadata": {},
   "outputs": [],
   "source": [
    "# Train model\n",
    "loss_hist = np.array([])\n",
    "optimizer = torch.optim.Adam(model.parameters(), lr=1e-4, weight_decay=1e-6)"
   ]
  },
  {
   "cell_type": "code",
   "execution_count": 8,
   "metadata": {},
   "outputs": [
    {
     "name": "stderr",
     "output_type": "stream",
     "text": [
      "100%|██████████| 4000/4000 [5:37:59<00:00,  5.07s/it]  \n"
     ]
    }
   ],
   "source": [
    "for it in tqdm(range(max_iter)):\n",
    "    loss_epoch = np.array([])\n",
    "\n",
    "    for it2 in (range(n_batch)):  \n",
    "        optimizer.zero_grad() \n",
    "        \n",
    "        # Compute loss\n",
    "        batch = batches[it2]\n",
    "        loss = -model.log_prob(x[batch], context[batch]).mean()\n",
    "        \n",
    "        # Do backprop and optimizer step\n",
    "        if ~(torch.isnan(loss) | torch.isinf(loss)):\n",
    "            loss.backward()\n",
    "            optimizer.step()\n",
    "        \n",
    "            loss_epoch = np.append(loss_epoch, 1.0*loss.to('cpu').item())\n",
    "        del loss #this is a test\n",
    "\n",
    "    # Log loss\n",
    "    loss_hist = np.append(loss_hist, np.mean(loss_epoch))\n",
    "\n",
    "    if (it+1)%show_iter==0:\n",
    "        index = (loss_hist.size+np.arange(-int(2.5*show_iter),0))\n",
    "        eZplot.presenting_results(model,target,loss_hist,index[index>=0],figs_direc = figs_direc)\n",
    "\n",
    "    if (it + 1) % (3*show_iter) == 0:\n",
    "        with torch.no_grad():\n",
    "            torch.save(model.state_dict(), model_file)\n",
    "\n",
    "    with torch.no_grad():\n",
    "        samples_new = target.sample(n=64*1024)\n",
    "\n",
    "        x[:samples_new.size(0)] = samples_new[:,0].reshape((-1,1))\n",
    "        context[:samples_new.size(0)] = samples_new[:,1:]\n",
    "\n",
    "        shuffle_index = torch.randperm(x.size(0))\n",
    "        x = (x[shuffle_index]).contiguous()\n",
    "        context = (context[shuffle_index]).contiguous()\n"
   ]
  },
  {
   "cell_type": "code",
   "execution_count": 9,
   "metadata": {},
   "outputs": [],
   "source": [
    "torch.save(model.state_dict(), model_file)"
   ]
  },
  {
   "cell_type": "code",
   "execution_count": null,
   "metadata": {},
   "outputs": [],
   "source": []
  }
 ],
 "metadata": {
  "kernelspec": {
   "display_name": "base",
   "language": "python",
   "name": "python3"
  },
  "language_info": {
   "codemirror_mode": {
    "name": "ipython",
    "version": 3
   },
   "file_extension": ".py",
   "mimetype": "text/x-python",
   "name": "python",
   "nbconvert_exporter": "python",
   "pygments_lexer": "ipython3",
   "version": "3.9.16"
  },
  "orig_nbformat": 4
 },
 "nbformat": 4,
 "nbformat_minor": 2
}
